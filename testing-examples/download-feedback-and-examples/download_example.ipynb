{
 "cells": [
  {
   "cell_type": "markdown",
   "id": "8b45a82a-a0dd-489b-bba8-c34f8e5afb96",
   "metadata": {},
   "source": [
    "## Download Feedback and Examples From a Test Project\n",
    "\n",
    "When testing with Langsmith, all the traces, examples, and evaluation feedback are saved so you have a full audit of what happened.\n",
    "This way you can see the aggregate metrics of the test run and compare on an example by example basis.\n",
    "\n",
    "We will show how to export the feedback and examples from a Langsmith test project. The main steps are:\n",
    "\n",
    "1. Create a dataset\n",
    "2. Run testing\n",
    "3. Export feedback and examples\n",
    "\n",
    "## Setup\n",
    "\n",
    "Install langchain and any other dependencies for your chain. We will install pandas as well for this walkthrough to put the retrieved data in a dataframe."
   ]
  },
  {
   "cell_type": "code",
   "execution_count": 13,
   "id": "214520b3-801a-43eb-9eb5-017c1c6a9107",
   "metadata": {
    "tags": []
   },
   "outputs": [
    {
     "name": "stdout",
     "output_type": "stream",
     "text": [
      "Note: you may need to restart the kernel to use updated packages.\n"
     ]
    }
   ],
   "source": [
    "# %pip install -U langsmith langchain anthropic pandas --quiet"
   ]
  },
  {
   "cell_type": "code",
   "execution_count": 18,
   "id": "e820af26-12aa-4f2c-9ffb-345e68dfc638",
   "metadata": {
    "tags": []
   },
   "outputs": [],
   "source": [
    "import uuid\n",
    "import os\n",
    "\n",
    "unique_id = uuid.uuid4().hex[0:8]\n",
    "os.environ[\"LANGCHAIN_API_KEY\"] = \"\"\n",
    "os.environ[\"LANGCHAIN_ENDPOINT\"] = \"\"\n",
    "os.environ[\"LANGCHAIN_PROJECT\"] = f\"Retrieve feedback and examples {unique_id}\""
   ]
  },
  {
   "cell_type": "markdown",
   "id": "33f813bc-14b0-4015-aed6-d4365f4b9047",
   "metadata": {},
   "source": [
    "## 1. Create a dataset\n",
    "\n",
    "We will create a simple KV dataset with a poem topic and a constraint letter (which the model should not use)."
   ]
  },
  {
   "cell_type": "code",
   "execution_count": 19,
   "id": "6594fa55-8278-453e-b923-fb5eb18b9458",
   "metadata": {
    "tags": []
   },
   "outputs": [],
   "source": [
    "from langsmith import Client\n",
    "\n",
    "client = Client()\n",
    "\n",
    "examples= [\n",
    "    (\"roses\", \"o\"),\n",
    "    (\"vikings\", \"v\"),\n",
    "    (\"planet earth\", \"e\"),\n",
    "    (\"Sirens of Titan\", \"t\"),\n",
    "]\n",
    "\n",
    "dataset_name = f\"Download Feedback and Examples {unique_id}\"\n",
    "dataset = client.create_dataset(dataset_name)\n",
    "\n",
    "for prompt, constraint in examples:\n",
    "    client.create_example({\"input\": prompt, \"constraint\": constraint}, dataset_id=dataset.id, outputs={\"constraint\": constraint})"
   ]
  },
  {
   "cell_type": "markdown",
   "id": "787a8a19-986c-4334-8ef6-08e884b45bcd",
   "metadata": {},
   "source": [
    "## 2. Run testing\n",
    "\n",
    "We will use a simple custom evaluator that checks whether the prediction contains the constraint letter."
   ]
  },
  {
   "cell_type": "code",
   "execution_count": 20,
   "id": "df839dab-f0dc-435a-982d-2bcc501257ce",
   "metadata": {
    "tags": []
   },
   "outputs": [],
   "source": [
    "from typing import Any\n",
    "from langchain.evaluation import StringEvaluator\n",
    "\n",
    "class ConstraintEvaluator(StringEvaluator):\n",
    "    \n",
    "    @property\n",
    "    def requires_reference(self):\n",
    "        return True\n",
    "    \n",
    "    def _evaluate_strings(self, prediction: str, reference: str, **kwargs: Any) -> dict:\n",
    "        # Reference in this case is the letter that should not be present\n",
    "        return {\n",
    "            \"score\": bool(reference not in prediction),\n",
    "            \"reasoning\": f\"prediction contains the letter {reference}\",\n",
    "        }"
   ]
  },
  {
   "cell_type": "code",
   "execution_count": 56,
   "id": "3dc523be-b157-44a6-a820-f2bb2d2757ba",
   "metadata": {
    "tags": []
   },
   "outputs": [
    {
     "name": "stdout",
     "output_type": "stream",
     "text": [
      "View the evaluation results for project 'test-dependable-wave-58' at:\n",
      "https://smith.langchain.com/o/ebbaf2eb-769b-4505-aca2-d11de10372a4/projects/p/8777c86e-9349-43bb-a471-c98ee2598774\n",
      "[------------------------------------------------->] 4/4"
     ]
    }
   ],
   "source": [
    "from langchain import chat_models, prompts, schema\n",
    "from langchain.smith import RunEvalConfig\n",
    "\n",
    "chain = (\n",
    "    prompts.PromptTemplate.from_template(\"Write a poem about {input} without using the letter {constraint}. Respond directly with the poem with no explanation.\")\n",
    "    | chat_models.ChatAnthropic()\n",
    "    | schema.output_parser.StrOutputParser()\n",
    ")\n",
    "\n",
    "eval_config = RunEvalConfig(\n",
    "    custom_evaluators=[ConstraintEvaluator()],\n",
    "    input_key=\"input\",\n",
    ")\n",
    "\n",
    "test_results = client.run_on_dataset(\n",
    "    dataset_name=dataset_name,\n",
    "    llm_or_chain_factory=chain,\n",
    "    evaluation=eval_config,\n",
    ")"
   ]
  },
  {
   "cell_type": "markdown",
   "id": "75f3c533-8ee6-466b-9082-372710287873",
   "metadata": {},
   "source": [
    "## 3. Review the feedback and examples"
   ]
  },
  {
   "cell_type": "markdown",
   "id": "8462317f-bfe6-4d0f-b418-a353d51c59da",
   "metadata": {
    "tags": []
   },
   "source": [
    "If you want to directly use the results, you can easily access them in tabular format by calling `to_dataframe()` on the test_results. "
   ]
  },
  {
   "cell_type": "code",
   "execution_count": 57,
   "id": "da614c30-63ab-4c7f-a366-583bb89c01b7",
   "metadata": {
    "tags": []
   },
   "outputs": [
    {
     "data": {
      "text/html": [
       "<div>\n",
       "<style scoped>\n",
       "    .dataframe tbody tr th:only-of-type {\n",
       "        vertical-align: middle;\n",
       "    }\n",
       "\n",
       "    .dataframe tbody tr th {\n",
       "        vertical-align: top;\n",
       "    }\n",
       "\n",
       "    .dataframe thead th {\n",
       "        text-align: right;\n",
       "    }\n",
       "</style>\n",
       "<table border=\"1\" class=\"dataframe\">\n",
       "  <thead>\n",
       "    <tr style=\"text-align: right;\">\n",
       "      <th></th>\n",
       "      <th>ConstraintEvaluator</th>\n",
       "      <th>input</th>\n",
       "      <th>output</th>\n",
       "      <th>reference</th>\n",
       "    </tr>\n",
       "  </thead>\n",
       "  <tbody>\n",
       "    <tr>\n",
       "      <th>38f8b732-79c3-45a2-b3b3-ff04d5a78c28</th>\n",
       "      <td>False</td>\n",
       "      <td>{'input': 'Sirens of Titan', 'constraint': 't'}</td>\n",
       "      <td>Here is a poem about Sirens of Titan without ...</td>\n",
       "      <td>{'output': 't'}</td>\n",
       "    </tr>\n",
       "    <tr>\n",
       "      <th>82126087-4ae7-42b9-af51-a12ae0ee4dc3</th>\n",
       "      <td>False</td>\n",
       "      <td>{'input': 'planet earth', 'constraint': 'e'}</td>\n",
       "      <td>Our home, our world, our earth\\nSpinning thro...</td>\n",
       "      <td>{'output': 'e'}</td>\n",
       "    </tr>\n",
       "    <tr>\n",
       "      <th>1addd6f1-5e93-42f6-8753-b55eea5e3e8d</th>\n",
       "      <td>False</td>\n",
       "      <td>{'input': 'vikings', 'constraint': 'v'}</td>\n",
       "      <td>Here is a poem about Vikings without using th...</td>\n",
       "      <td>{'output': 'v'}</td>\n",
       "    </tr>\n",
       "    <tr>\n",
       "      <th>376544fb-b475-4a84-86ea-5b28ea4a1aee</th>\n",
       "      <td>False</td>\n",
       "      <td>{'input': 'roses', 'constraint': 'o'}</td>\n",
       "      <td>Here is a poem about roses without using the ...</td>\n",
       "      <td>{'output': 'o'}</td>\n",
       "    </tr>\n",
       "  </tbody>\n",
       "</table>\n",
       "</div>"
      ],
      "text/plain": [
       "                                      ConstraintEvaluator  \\\n",
       "38f8b732-79c3-45a2-b3b3-ff04d5a78c28                False   \n",
       "82126087-4ae7-42b9-af51-a12ae0ee4dc3                False   \n",
       "1addd6f1-5e93-42f6-8753-b55eea5e3e8d                False   \n",
       "376544fb-b475-4a84-86ea-5b28ea4a1aee                False   \n",
       "\n",
       "                                                                                input  \\\n",
       "38f8b732-79c3-45a2-b3b3-ff04d5a78c28  {'input': 'Sirens of Titan', 'constraint': 't'}   \n",
       "82126087-4ae7-42b9-af51-a12ae0ee4dc3     {'input': 'planet earth', 'constraint': 'e'}   \n",
       "1addd6f1-5e93-42f6-8753-b55eea5e3e8d          {'input': 'vikings', 'constraint': 'v'}   \n",
       "376544fb-b475-4a84-86ea-5b28ea4a1aee            {'input': 'roses', 'constraint': 'o'}   \n",
       "\n",
       "                                                                                 output  \\\n",
       "38f8b732-79c3-45a2-b3b3-ff04d5a78c28   Here is a poem about Sirens of Titan without ...   \n",
       "82126087-4ae7-42b9-af51-a12ae0ee4dc3   Our home, our world, our earth\\nSpinning thro...   \n",
       "1addd6f1-5e93-42f6-8753-b55eea5e3e8d   Here is a poem about Vikings without using th...   \n",
       "376544fb-b475-4a84-86ea-5b28ea4a1aee   Here is a poem about roses without using the ...   \n",
       "\n",
       "                                            reference  \n",
       "38f8b732-79c3-45a2-b3b3-ff04d5a78c28  {'output': 't'}  \n",
       "82126087-4ae7-42b9-af51-a12ae0ee4dc3  {'output': 'e'}  \n",
       "1addd6f1-5e93-42f6-8753-b55eea5e3e8d  {'output': 'v'}  \n",
       "376544fb-b475-4a84-86ea-5b28ea4a1aee  {'output': 'o'}  "
      ]
     },
     "execution_count": 57,
     "metadata": {},
     "output_type": "execute_result"
    }
   ],
   "source": [
    "test_results.to_dataframe()"
   ]
  },
  {
   "cell_type": "markdown",
   "id": "fbb7ff41-d1a2-4c92-8c63-803a0cc34b9c",
   "metadata": {},
   "source": [
    "If you want to fetch the feedback and examples for a historic test project, you can use the SDK:"
   ]
  },
  {
   "cell_type": "code",
   "execution_count": 58,
   "id": "33a1c081-7cd6-408f-949d-f6897f4baf3c",
   "metadata": {
    "tags": []
   },
   "outputs": [],
   "source": [
    "# Can be any previous test projects\n",
    "test_project = test_results['project_name']"
   ]
  },
  {
   "cell_type": "code",
   "execution_count": 70,
   "id": "b4426821-bae0-4702-86e9-c5d7bbaceb20",
   "metadata": {
    "tags": []
   },
   "outputs": [
    {
     "data": {
      "text/html": [
       "<div>\n",
       "<style scoped>\n",
       "    .dataframe tbody tr th:only-of-type {\n",
       "        vertical-align: middle;\n",
       "    }\n",
       "\n",
       "    .dataframe tbody tr th {\n",
       "        vertical-align: top;\n",
       "    }\n",
       "\n",
       "    .dataframe thead th {\n",
       "        text-align: right;\n",
       "    }\n",
       "</style>\n",
       "<table border=\"1\" class=\"dataframe\">\n",
       "  <thead>\n",
       "    <tr style=\"text-align: right;\">\n",
       "      <th></th>\n",
       "      <th>example_id</th>\n",
       "      <th>input</th>\n",
       "      <th>constraint</th>\n",
       "      <th>output</th>\n",
       "      <th>ConstraintEvaluator.score</th>\n",
       "      <th>ConstraintEvaluator.comment</th>\n",
       "      <th>reference</th>\n",
       "    </tr>\n",
       "  </thead>\n",
       "  <tbody>\n",
       "    <tr>\n",
       "      <th>0</th>\n",
       "      <td>376544fb-b475-4a84-86ea-5b28ea4a1aee</td>\n",
       "      <td>roses</td>\n",
       "      <td>o</td>\n",
       "      <td>Here is a poem about roses without using the ...</td>\n",
       "      <td>0.0</td>\n",
       "      <td>prediction contains the letter o</td>\n",
       "      <td>{'output': 'o'}</td>\n",
       "    </tr>\n",
       "    <tr>\n",
       "      <th>1</th>\n",
       "      <td>1addd6f1-5e93-42f6-8753-b55eea5e3e8d</td>\n",
       "      <td>vikings</td>\n",
       "      <td>v</td>\n",
       "      <td>Here is a poem about Vikings without using th...</td>\n",
       "      <td>0.0</td>\n",
       "      <td>prediction contains the letter v</td>\n",
       "      <td>{'output': 'v'}</td>\n",
       "    </tr>\n",
       "    <tr>\n",
       "      <th>2</th>\n",
       "      <td>82126087-4ae7-42b9-af51-a12ae0ee4dc3</td>\n",
       "      <td>planet earth</td>\n",
       "      <td>e</td>\n",
       "      <td>Our home, our world, our earth\\nSpinning thro...</td>\n",
       "      <td>0.0</td>\n",
       "      <td>prediction contains the letter e</td>\n",
       "      <td>{'output': 'e'}</td>\n",
       "    </tr>\n",
       "    <tr>\n",
       "      <th>3</th>\n",
       "      <td>38f8b732-79c3-45a2-b3b3-ff04d5a78c28</td>\n",
       "      <td>Sirens of Titan</td>\n",
       "      <td>t</td>\n",
       "      <td>Here is a poem about Sirens of Titan without ...</td>\n",
       "      <td>0.0</td>\n",
       "      <td>prediction contains the letter t</td>\n",
       "      <td>{'output': 't'}</td>\n",
       "    </tr>\n",
       "  </tbody>\n",
       "</table>\n",
       "</div>"
      ],
      "text/plain": [
       "                             example_id            input constraint  \\\n",
       "0  376544fb-b475-4a84-86ea-5b28ea4a1aee            roses          o   \n",
       "1  1addd6f1-5e93-42f6-8753-b55eea5e3e8d          vikings          v   \n",
       "2  82126087-4ae7-42b9-af51-a12ae0ee4dc3     planet earth          e   \n",
       "3  38f8b732-79c3-45a2-b3b3-ff04d5a78c28  Sirens of Titan          t   \n",
       "\n",
       "                                              output  \\\n",
       "0   Here is a poem about roses without using the ...   \n",
       "1   Here is a poem about Vikings without using th...   \n",
       "2   Our home, our world, our earth\\nSpinning thro...   \n",
       "3   Here is a poem about Sirens of Titan without ...   \n",
       "\n",
       "   ConstraintEvaluator.score       ConstraintEvaluator.comment  \\\n",
       "0                        0.0  prediction contains the letter o   \n",
       "1                        0.0  prediction contains the letter v   \n",
       "2                        0.0  prediction contains the letter e   \n",
       "3                        0.0  prediction contains the letter t   \n",
       "\n",
       "         reference  \n",
       "0  {'output': 'o'}  \n",
       "1  {'output': 'v'}  \n",
       "2  {'output': 'e'}  \n",
       "3  {'output': 't'}  "
      ]
     },
     "execution_count": 70,
     "metadata": {},
     "output_type": "execute_result"
    }
   ],
   "source": [
    "import pandas as pd\n",
    "\n",
    "runs = client.list_runs(project_name=test_project, execution_order=1)\n",
    "\n",
    "df = pd.DataFrame(\n",
    "    [\n",
    "        {\n",
    "            \"example_id\": r.reference_example_id,\n",
    "            **r.inputs,\n",
    "            **(r.outputs or {}),\n",
    "            **{k: v for f in client.list_feedback(run_ids=[r.id]) for k, v in [(f\"{f.key}.score\", f.score), (f\"{f.key}.comment\", f.comment)]},\n",
    "            \"reference\": client.read_example(r.reference_example_id).outputs\n",
    "        }\n",
    "        for r in runs\n",
    "    ]\n",
    ")\n",
    "df"
   ]
  },
  {
   "cell_type": "markdown",
   "id": "eba511e2-c9ec-4268-b655-5163fa882086",
   "metadata": {},
   "source": [
    "## Conclusion\n",
    "\n",
    "In this example we showed how to download feedback and examples from a test project. You can directly use the result object from the run or use the SDK to fetch the results and feedback. You can use this to further analyze and compare results."
   ]
  },
  {
   "cell_type": "code",
   "execution_count": null,
   "id": "0f637c05-80e7-43be-b44e-2a337139a183",
   "metadata": {},
   "outputs": [],
   "source": []
  }
 ],
 "metadata": {
  "kernelspec": {
   "display_name": "Python 3 (ipykernel)",
   "language": "python",
   "name": "python3"
  },
  "language_info": {
   "codemirror_mode": {
    "name": "ipython",
    "version": 3
   },
   "file_extension": ".py",
   "mimetype": "text/x-python",
   "name": "python",
   "nbconvert_exporter": "python",
   "pygments_lexer": "ipython3",
   "version": "3.11.2"
  }
 },
 "nbformat": 4,
 "nbformat_minor": 5
}
