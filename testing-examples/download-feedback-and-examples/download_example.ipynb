{
    "cells": [
        {
            "cell_type": "markdown",
            "id": "8b45a82a-a0dd-489b-bba8-c34f8e5afb96",
            "metadata": {},
            "source": [
                "# How to download feedback and examples from a test project\n",
                "[![Open In Collab](https://colab.research.google.com/assets/colab-badge.svg)](https://colab.research.google.com/github/langchain-ai/langsmith-cookbook/blob/master/./testing-examples/download-feedback-and-examples/download_example.ipynb)\n",
                "\n",
                "When testing with Langsmith, all the traces, examples, and evaluation feedback are saved so you have a full audit of what happened.\n",
                "This way you can see the aggregate metrics of the test run and compare on an example by example basis. You can also download the run and evaluation result information\n",
                "to use in external reporting software.\n",
                "\n",
                "In this walkthrough, we will show how to export the feedback and examples from a Langsmith test project. The main steps are:\n",
                "\n",
                "1. Create a dataset\n",
                "2. Run testing\n",
                "3. Export feedback and examples\n",
                "\n",
                "## Setup\n",
                "\n",
                "Install langchain and any other dependencies for your chain. We will install pandas as well for this walkthrough to put the retrieved data in a dataframe."
            ]
        },
        {
            "cell_type": "code",
            "execution_count": null,
            "id": "214520b3-801a-43eb-9eb5-017c1c6a9107",
            "metadata": {
                "tags": []
            },
            "outputs": [],
            "source": [
                "# %pip install -U langsmith langchain anthropic pandas --quiet"
            ]
        },
        {
            "cell_type": "code",
            "execution_count": 1,
            "id": "e820af26-12aa-4f2c-9ffb-345e68dfc638",
            "metadata": {
                "tags": []
            },
            "outputs": [],
            "source": [
                "import uuid\n",
                "import os\n",
                "\n",
                "unique_id = uuid.uuid4().hex[0:8]\n",
                "os.environ[\"LANGCHAIN_API_KEY\"] = \"\"\n",
                "os.environ[\"LANGCHAIN_ENDPOINT\"] = \"\"\n",
                "os.environ[\"LANGCHAIN_PROJECT\"] = f\"Retrieve feedback and examples {unique_id}\""
            ]
        },
        {
            "cell_type": "markdown",
            "id": "33f813bc-14b0-4015-aed6-d4365f4b9047",
            "metadata": {},
            "source": [
                "## 1. Create a dataset\n",
                "\n",
                "We will create a simple KV dataset with a poem topic and a constraint letter (which the model should not use)."
            ]
        },
        {
            "cell_type": "code",
            "execution_count": 2,
            "id": "6594fa55-8278-453e-b923-fb5eb18b9458",
            "metadata": {
                "tags": []
            },
            "outputs": [],
            "source": [
                "from langsmith import Client\n",
                "\n",
                "client = Client()\n",
                "\n",
                "examples= [\n",
                "    (\"roses\", \"o\"),\n",
                "    (\"vikings\", \"v\"),\n",
                "    (\"planet earth\", \"e\"),\n",
                "    (\"Sirens of Titan\", \"t\"),\n",
                "]\n",
                "\n",
                "dataset_name = f\"Download Feedback and Examples {unique_id}\"\n",
                "dataset = client.create_dataset(dataset_name)\n",
                "\n",
                "for prompt, constraint in examples:\n",
                "    client.create_example({\"input\": prompt, \"constraint\": constraint}, dataset_id=dataset.id, outputs={\"constraint\": constraint})"
            ]
        },
        {
            "cell_type": "markdown",
            "id": "787a8a19-986c-4334-8ef6-08e884b45bcd",
            "metadata": {},
            "source": [
                "## 2. Run testing\n",
                "\n",
                "We will use a simple custom evaluator that checks whether the prediction contains the constraint letter."
            ]
        },
        {
            "cell_type": "code",
            "execution_count": 3,
            "id": "df839dab-f0dc-435a-982d-2bcc501257ce",
            "metadata": {
                "tags": []
            },
            "outputs": [],
            "source": [
                "from typing import Any\n",
                "from langchain.evaluation import StringEvaluator\n",
                "\n",
                "class ConstraintEvaluator(StringEvaluator):\n",
                "    \n",
                "    @property\n",
                "    def requires_reference(self):\n",
                "        return True\n",
                "    \n",
                "    def _evaluate_strings(self, prediction: str, reference: str, **kwargs: Any) -> dict:\n",
                "        # Reference in this case is the letter that should not be present\n",
                "        return {\n",
                "            \"score\": bool(reference not in prediction),\n",
                "            \"reasoning\": f\"prediction contains the letter {reference}\",\n",
                "        }"
            ]
        },
        {
            "cell_type": "code",
            "execution_count": 4,
            "id": "3dc523be-b157-44a6-a820-f2bb2d2757ba",
            "metadata": {
                "tags": []
            },
            "outputs": [
                {
                    "name": "stdout",
                    "output_type": "stream",
                    "text": [
                        "View the evaluation results for project 'test-kind-prose-61' at:\n",
                        "https://smith.langchain.com/o/ebbaf2eb-769b-4505-aca2-d11de10372a4/projects/p/9890dcfa-92af-42d0-9df2-aa3dccd13788\n",
                        "[------------------------------------------------->] 4/4"
                    ]
                }
            ],
            "source": [
                "from langchain import chat_models, prompts, schema\n",
                "from langchain.smith import RunEvalConfig\n",
                "\n",
                "chain = (\n",
                "    prompts.PromptTemplate.from_template(\"Write a poem about {input} without using the letter {constraint}. Respond directly with the poem with no explanation.\")\n",
                "    | chat_models.ChatAnthropic()\n",
                "    | schema.output_parser.StrOutputParser()\n",
                ")\n",
                "\n",
                "eval_config = RunEvalConfig(\n",
                "    custom_evaluators=[ConstraintEvaluator()],\n",
                "    input_key=\"input\",\n",
                ")\n",
                "\n",
                "test_results = client.run_on_dataset(\n",
                "    dataset_name=dataset_name,\n",
                "    llm_or_chain_factory=chain,\n",
                "    evaluation=eval_config,\n",
                ")"
            ]
        },
        {
            "cell_type": "markdown",
            "id": "75f3c533-8ee6-466b-9082-372710287873",
            "metadata": {},
            "source": [
                "## 3. Review the feedback and examples"
            ]
        },
        {
            "cell_type": "markdown",
            "id": "8462317f-bfe6-4d0f-b418-a353d51c59da",
            "metadata": {
                "tags": []
            },
            "source": [
                "If you want to directly use the results, you can easily access them in tabular format by calling `to_dataframe()` on the test_results. "
            ]
        },
        {
            "cell_type": "code",
            "execution_count": 5,
            "id": "da614c30-63ab-4c7f-a366-583bb89c01b7",
            "metadata": {
                "tags": []
            },
            "outputs": [
                {
                    "data": {
                        "text/html": [
                            "<div>\n",
                            "<style scoped>\n",
                            "    .dataframe tbody tr th:only-of-type {\n",
                            "        vertical-align: middle;\n",
                            "    }\n",
                            "\n",
                            "    .dataframe tbody tr th {\n",
                            "        vertical-align: top;\n",
                            "    }\n",
                            "\n",
                            "    .dataframe thead th {\n",
                            "        text-align: right;\n",
                            "    }\n",
                            "</style>\n",
                            "<table border=\"1\" class=\"dataframe\">\n",
                            "  <thead>\n",
                            "    <tr style=\"text-align: right;\">\n",
                            "      <th></th>\n",
                            "      <th>ConstraintEvaluator</th>\n",
                            "      <th>input</th>\n",
                            "      <th>output</th>\n",
                            "      <th>reference</th>\n",
                            "    </tr>\n",
                            "  </thead>\n",
                            "  <tbody>\n",
                            "    <tr>\n",
                            "      <th>3e9a2c05-f7f5-4309-b755-abeb76719f26</th>\n",
                            "      <td>False</td>\n",
                            "      <td>{'input': 'Sirens of Titan', 'constraint': 't'}</td>\n",
                            "      <td>Here is a poem about Sirens of Titan without ...</td>\n",
                            "      <td>{'constraint': 't'}</td>\n",
                            "    </tr>\n",
                            "    <tr>\n",
                            "      <th>9fddeee7-9080-46c8-b280-405b4f3d18cb</th>\n",
                            "      <td>False</td>\n",
                            "      <td>{'input': 'planet earth', 'constraint': 'e'}</td>\n",
                            "      <td>Our orb of life, a vision grand,\\nWith oceans...</td>\n",
                            "      <td>{'constraint': 'e'}</td>\n",
                            "    </tr>\n",
                            "    <tr>\n",
                            "      <th>d74ea995-6ae6-488a-8da8-21695f8949fe</th>\n",
                            "      <td>False</td>\n",
                            "      <td>{'input': 'vikings', 'constraint': 'v'}</td>\n",
                            "      <td>Here is a poem about Vikings without using th...</td>\n",
                            "      <td>{'constraint': 'v'}</td>\n",
                            "    </tr>\n",
                            "    <tr>\n",
                            "      <th>e059d4b8-3079-40c7-a6b7-16347d4fc568</th>\n",
                            "      <td>False</td>\n",
                            "      <td>{'input': 'roses', 'constraint': 'o'}</td>\n",
                            "      <td>Here is a poem about roses without using the ...</td>\n",
                            "      <td>{'constraint': 'o'}</td>\n",
                            "    </tr>\n",
                            "  </tbody>\n",
                            "</table>\n",
                            "</div>"
                        ],
                        "text/plain": [
                            "                                      ConstraintEvaluator  \\\n",
                            "3e9a2c05-f7f5-4309-b755-abeb76719f26                False   \n",
                            "9fddeee7-9080-46c8-b280-405b4f3d18cb                False   \n",
                            "d74ea995-6ae6-488a-8da8-21695f8949fe                False   \n",
                            "e059d4b8-3079-40c7-a6b7-16347d4fc568                False   \n",
                            "\n",
                            "                                                                                input  \\\n",
                            "3e9a2c05-f7f5-4309-b755-abeb76719f26  {'input': 'Sirens of Titan', 'constraint': 't'}   \n",
                            "9fddeee7-9080-46c8-b280-405b4f3d18cb     {'input': 'planet earth', 'constraint': 'e'}   \n",
                            "d74ea995-6ae6-488a-8da8-21695f8949fe          {'input': 'vikings', 'constraint': 'v'}   \n",
                            "e059d4b8-3079-40c7-a6b7-16347d4fc568            {'input': 'roses', 'constraint': 'o'}   \n",
                            "\n",
                            "                                                                                 output  \\\n",
                            "3e9a2c05-f7f5-4309-b755-abeb76719f26   Here is a poem about Sirens of Titan without ...   \n",
                            "9fddeee7-9080-46c8-b280-405b4f3d18cb   Our orb of life, a vision grand,\\nWith oceans...   \n",
                            "d74ea995-6ae6-488a-8da8-21695f8949fe   Here is a poem about Vikings without using th...   \n",
                            "e059d4b8-3079-40c7-a6b7-16347d4fc568   Here is a poem about roses without using the ...   \n",
                            "\n",
                            "                                                reference  \n",
                            "3e9a2c05-f7f5-4309-b755-abeb76719f26  {'constraint': 't'}  \n",
                            "9fddeee7-9080-46c8-b280-405b4f3d18cb  {'constraint': 'e'}  \n",
                            "d74ea995-6ae6-488a-8da8-21695f8949fe  {'constraint': 'v'}  \n",
                            "e059d4b8-3079-40c7-a6b7-16347d4fc568  {'constraint': 'o'}  "
                        ]
                    },
                    "execution_count": 5,
                    "metadata": {},
                    "output_type": "execute_result"
                }
            ],
            "source": [
                "test_results.to_dataframe()"
            ]
        },
        {
            "cell_type": "markdown",
            "id": "fbb7ff41-d1a2-4c92-8c63-803a0cc34b9c",
            "metadata": {},
            "source": [
                "If you want to fetch the feedback and examples for a historic test project, you can use the SDK:"
            ]
        },
        {
            "cell_type": "code",
            "execution_count": null,
            "id": "33a1c081-7cd6-408f-949d-f6897f4baf3c",
            "metadata": {
                "tags": []
            },
            "outputs": [],
            "source": [
                "# Can be any previous test projects\n",
                "test_project = test_results['project_name']"
            ]
        },
        {
            "cell_type": "code",
            "execution_count": null,
            "id": "b4426821-bae0-4702-86e9-c5d7bbaceb20",
            "metadata": {
                "tags": []
            },
            "outputs": [],
            "source": [
                "import pandas as pd\n",
                "\n",
                "runs = client.list_runs(project_name=test_project, execution_order=1)\n",
                "\n",
                "df = pd.DataFrame(\n",
                "    [\n",
                "        {\n",
                "            \"example_id\": r.reference_example_id,\n",
                "            **r.inputs,\n",
                "            **(r.outputs or {}),\n",
                "            **{k: v for f in client.list_feedback(run_ids=[r.id]) for k, v in [(f\"{f.key}.score\", f.score), (f\"{f.key}.comment\", f.comment)]},\n",
                "            \"reference\": client.read_example(r.reference_example_id).outputs\n",
                "        }\n",
                "        for r in runs\n",
                "    ]\n",
                ")\n",
                "df"
            ]
        },
        {
            "cell_type": "markdown",
            "id": "eba511e2-c9ec-4268-b655-5163fa882086",
            "metadata": {},
            "source": [
                "## Conclusion\n",
                "\n",
                "In this example we showed how to download feedback and examples from a test project. You can directly use the result object from the run or use the SDK to fetch the results and feedback.\n",
                "Use this to analyze further or to programmatically add result information to your existing reports."
            ]
        },
        {
            "cell_type": "code",
            "execution_count": null,
            "id": "0f637c05-80e7-43be-b44e-2a337139a183",
            "metadata": {},
            "outputs": [],
            "source": []
        }
    ],
    "metadata": {
        "kernelspec": {
            "display_name": "Python 3 (ipykernel)",
            "language": "python",
            "name": "python3"
        },
        "language_info": {
            "codemirror_mode": {
                "name": "ipython",
                "version": 3
            },
            "file_extension": ".py",
            "mimetype": "text/x-python",
            "name": "python",
            "nbconvert_exporter": "python",
            "pygments_lexer": "ipython3",
            "version": "3.11.2"
        }
    },
    "nbformat": 4,
    "nbformat_minor": 5
}