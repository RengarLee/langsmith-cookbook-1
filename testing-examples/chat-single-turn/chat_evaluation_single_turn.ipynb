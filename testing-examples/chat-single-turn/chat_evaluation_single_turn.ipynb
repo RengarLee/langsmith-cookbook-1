{
    "cells": [
        {
            "cell_type": "markdown",
            "id": "d5bc7d94-ad28-4959-af26-d436035a2737",
            "metadata": {},
            "source": [
                "# Evaluating a Chat Bot (Single-Turn)\n",
                "[![Open In Collab](https://colab.research.google.com/assets/colab-badge.svg)](https://colab.research.google.com/github/langchain-ai/langsmith-cookbook/blob/master/./testing-examples/chat-single-turn/chat_evaluation_single_turn.ipynb)\n",
                "\n",
                "Chat bots, designed to assist users or provide entertainment, typically engage in multiple conversational turns in any given chat session. Over extended interactions, there is potential for the quality of the LLM responses to diminish. This can manifest as difficulty in recalling earlier conversation details, improper interaction with external resources (if available), or repetitive and uninspired responses. If your current offline evaluations focus solely on individual question-answer pairs, such nuances may go unnoticed.\n",
                "\n",
                "This walkthrough guides you in creating a dataset to evaluate chatbots within multi-turn conversations. Rather than complicate the evaluation with simulation-based methods, the technique outlined below simplifies the process: we treat each data point as an individual dialogue turn. When these are sourced from different stages of actual dialogues, they effectively capture the typical behaviors your model should exhibit.\n",
                "\n",
                "This notebook provides a concise overview of the process. Let's get started!"
            ]
        },
        {
            "cell_type": "markdown",
            "id": "0e4febc5-2d9e-4a43-83ba-d84725ecb466",
            "metadata": {},
            "source": [
                "## Prerequisites\n",
                "\n",
                "This walkthrough uses LangChain and OpenAI. Install these packages below and configure your API keys accordingly."
            ]
        },
        {
            "cell_type": "code",
            "execution_count": 1,
            "id": "8a84cf96-099b-41c9-a286-85640db065c0",
            "metadata": {},
            "outputs": [],
            "source": [
                "%pip install -U langchain openai"
            ]
        },
        {
            "cell_type": "code",
            "execution_count": null,
            "id": "ce3a7158-4e4b-43a7-845d-b3091ea7b9f5",
            "metadata": {},
            "outputs": [],
            "source": [
                "import os\n",
                "\n",
                "os.environ[\"LANGCHAIN_API_KEY\"] = \"YOUR API KEY\"\n",
                "os.environ[\"OPENAI_API_KEY\"] = \"YOUR API KEY\""
            ]
        },
        {
            "cell_type": "code",
            "execution_count": 2,
            "id": "9baf7b71-4a29-4a0b-835f-9929169bfc82",
            "metadata": {},
            "outputs": [],
            "source": [
                "import uuid\n",
                "\n",
                "from langsmith import Client\n",
                "\n",
                "uid = uuid.uuid4()\n",
                "client = Client()"
            ]
        },
        {
            "cell_type": "markdown",
            "id": "cfd8a62c-ac6b-46b5-ba55-2eb4f4f51a55",
            "metadata": {},
            "source": [
                "# 1. Create dataset\n",
                "\n",
                "The key component of a multi-turn dialogue dataset is a list of conversational \"turns\". For each dataset example row,  we will evaluate how well the chat bot can respond, taking the conversation history into account. \n",
                "\n",
                "To accomplish his, we will make a dataset using a list of chat message dictionaries. We have factored out the \"incoming\" user query as a separate field."
            ]
        },
        {
            "cell_type": "code",
            "execution_count": 3,
            "id": "3ea885a4-83e4-45a5-b576-a14e085699d4",
            "metadata": {},
            "outputs": [],
            "source": [
                "examples = [\n",
                "    {\n",
                "        \"question\": \"For\",\n",
                "        \"chat_history\": [\n",
                "            {\n",
                "                \"role\": \"user\",\n",
                "                \"content\": \"Help me prepare for my debate\",\n",
                "            },\n",
                "            {\n",
                "                \"role\": \"assistant\",\n",
                "                \"content\": \"Sure thing, what is the topic of debate?\",\n",
                "            },\n",
                "            {\n",
                "                \"role\": \"user\",\n",
                "                \"content\": \"Use of technology in the classroom.\",\n",
                "            },\n",
                "            {\n",
                "                \"role\": \"assistant\",\n",
                "                \"content\": \"Great. Which side would you like to represent?\",\n",
                "            },\n",
                "        ],\n",
                "    },\n",
                "    {\n",
                "        \"question\": \"Yes, that would be helpful.\",\n",
                "        \"chat_history\": [\n",
                "            {\n",
                "                \"role\": \"user\",\n",
                "                \"content\": \"I’m having trouble understanding cultural relativism.\",\n",
                "            },\n",
                "            {\n",
                "                \"role\": \"assistant\",\n",
                "                \"content\": \"It’s a crucial concept. Essentially, it’s about viewing other cultures without the lens of our own biases.\",\n",
                "            },\n",
                "            {\n",
                "                \"role\": \"user\",\n",
                "                \"content\": \"So, like not judging other cultures based on our own standards?\",\n",
                "            },\n",
                "            {\n",
                "                \"role\": \"assistant\",\n",
                "                \"content\": \"Exactly! It helps anthropologists to understand cultures on their own terms. Would you like a historical example?\",\n",
                "            },\n",
                "        ],\n",
                "    },\n",
                "    {\n",
                "        \"question\": \"Was the American Revolution an influence too?\",\n",
                "        \"chat_history\": [\n",
                "            {\n",
                "                \"role\": \"user\",\n",
                "                \"content\": \"Can you explain the causes of the French Revolution?\",\n",
                "            },\n",
                "            {\n",
                "                \"role\": \"assistant\",\n",
                "                \"content\": \"Certainly. The causes are manifold including economic hardship, social inequality, and political incompetence.\",\n",
                "            },\n",
                "            {\n",
                "                \"role\": \"user\",\n",
                "                \"content\": \"The bourgeoisie were a part of the Third Estate, right?\",\n",
                "            },\n",
                "            {\n",
                "                \"role\": \"assistant\",\n",
                "                \"content\": \"Correct. They were part of the larger Third Estate which also included peasants and workers, and they were heavily taxed unlike the other estates.\",\n",
                "            },\n",
                "            {\"role\": \"user\", \"content\": \"How did Enlightenment ideas contribute?\"},\n",
                "            {\n",
                "                \"role\": \"assistant\",\n",
                "                \"content\": \"Enlightenment ideas inspired the populace by promoting rights and equality, which directly challenged the established feudal system.\",\n",
                "            },\n",
                "        ],\n",
                "    },\n",
                "    {\n",
                "        \"question\": \"And this applies to all actions, no matter the size?\",\n",
                "        \"chat_history\": [\n",
                "            {\n",
                "                \"role\": \"user\",\n",
                "                \"content\": \"I can’t wrap my head around Newton’s Third Law.\",\n",
                "            },\n",
                "            {\n",
                "                \"role\": \"assistant\",\n",
                "                \"content\": \"It states that for every action, there’s an equal and opposite reaction. Think of it as a force pair.\",\n",
                "            },\n",
                "            {\"role\": \"user\", \"content\": \"Like when a rocket launches?\"},\n",
                "            {\n",
                "                \"role\": \"assistant\",\n",
                "                \"content\": \"Exactly! The rocket propels fuel downwards, and in turn, it is propelled upwards with equal force.\",\n",
                "            },\n",
                "        ],\n",
                "    },\n",
                "    {\n",
                "        \"question\": \"When do I steer left?\",\n",
                "        \"chat_history\": [\n",
                "            {\"role\": \"user\", \"content\": \"Parallel parking is tricky.\"},\n",
                "            {\"role\": \"assistant\", \"content\": \"It can be. Would you like some tips?\"},\n",
                "            {\"role\": \"user\", \"content\": \"Yes, please.\"},\n",
                "            {\n",
                "                \"role\": \"assistant\",\n",
                "                \"content\": \"Start by aligning your car beside the other car, leaving about 2-3 feet between them.\",\n",
                "            },\n",
                "            {\n",
                "                \"role\": \"user\",\n",
                "                \"content\": \"Then steer all the way to the right while backing up?\",\n",
                "            },\n",
                "            {\n",
                "                \"role\": \"assistant\",\n",
                "                \"content\": \"Yes, but when your front door passes the other car’s bumper, straighten the wheel and continue to reverse.\",\n",
                "            },\n",
                "        ],\n",
                "    },\n",
                "]"
            ]
        },
        {
            "cell_type": "code",
            "execution_count": 4,
            "id": "f029f8f7-ba87-4210-8a68-2f51fb91e30d",
            "metadata": {},
            "outputs": [],
            "source": [
                "dataset_name = f\"Chat Bot Evals Single-Turn Example - {uid}\"\n",
                "dataset = client.create_dataset(dataset_name)\n",
                "client.create_examples(\n",
                "    inputs=examples,\n",
                "    dataset_id=dataset.id,\n",
                ")"
            ]
        },
        {
            "cell_type": "markdown",
            "id": "843d3107-1a5f-4b83-85e7-1368fd233016",
            "metadata": {},
            "source": [
                "## 2. Define Custom Evaluator\n",
                "\n",
                "Let's say we want to use the reference free \"helpfulness\" evaluator. For simple situations like the dataset provided,\n",
                "we'd expect the helpfulness scores to be very high (close to 1). The evaluator below illustrates how you could take data from multiple input keys (in our case, \"question\", and \"chat_history\") and format them for some shared function, in our case, the [score_string](https://python.langchain.com/docs/guides/evaluation/string/scoring_eval_chain) evaluator."
            ]
        },
        {
            "cell_type": "code",
            "execution_count": 5,
            "id": "81b6d9a7-6e89-44c4-9e6d-f34f1ce83c75",
            "metadata": {},
            "outputs": [
                {
                    "name": "stdout",
                    "output_type": "stream",
                    "text": [
                        "Updateing forward refs\n"
                    ]
                }
            ],
            "source": [
                "from langchain.evaluation import load_evaluator\n",
                "from langsmith.evaluation import EvaluationResult, RunEvaluator\n",
                "from langsmith.schemas import Example, Run\n",
                "\n",
                "\n",
                "class ConversationalHelpfulnessEvaluator(RunEvaluator):\n",
                "    def __init__(self):\n",
                "        self.evaluator = load_evaluator(\n",
                "            \"score_string\", criteria=\"helpfulness\", normalize_by=10\n",
                "        )\n",
                "\n",
                "    def _format_conversation(self, question: str, chat_history: list):\n",
                "        return (\n",
                "            \"\\n\".join([f\"{turn['role']}: {turn['content']}\" for turn in chat_history])\n",
                "            + f\"User: {question}\"\n",
                "        )\n",
                "\n",
                "    def evaluate_run(self, run: Run, example: Example):\n",
                "        # The specifics of the _format_conversation function, including\n",
                "        # which keys to select, depend on the keys in your dataset.\n",
                "        formatted_history = self._format_conversation(\n",
                "            example.inputs[\"question\"], example.inputs[\"chat_history\"]\n",
                "        )\n",
                "        prediction = run.outputs[\"output\"]\n",
                "        eval_result = self.evaluator.evaluate_strings(\n",
                "            input=formatted_history,\n",
                "            prediction=prediction,\n",
                "        )\n",
                "        return EvaluationResult(key=\"conversation_helpfulness\", **eval_result)"
            ]
        },
        {
            "cell_type": "markdown",
            "id": "08e57fe3-877c-4509-b487-4cacfc1ba1a7",
            "metadata": {},
            "source": [
                "## Step 3: Define Chat Bot\n",
                "\n",
                "Our simple chat bot just formats the messages for an LLM and responds with the resulting content."
            ]
        },
        {
            "cell_type": "code",
            "execution_count": 6,
            "id": "2428d0d5-f5a7-4def-bd10-09f3130d3d75",
            "metadata": {},
            "outputs": [],
            "source": [
                "from langchain.chat_models import ChatOpenAI\n",
                "from langchain.prompts import ChatPromptTemplate, MessagesPlaceholder\n",
                "from langchain.schema.output_parser import StrOutputParser\n",
                "\n",
                "# An example chain\n",
                "chain = (\n",
                "    ChatPromptTemplate.from_messages(\n",
                "        [\n",
                "            (\"system\", \"You are a helpful tutor AI.\"),\n",
                "            MessagesPlaceholder(variable_name=\"chat_history\"),\n",
                "            (\"user\", \"{input}\"),\n",
                "        ]\n",
                "    )\n",
                "    | ChatOpenAI(model=\"gpt-3.5-turbo\")\n",
                "    | StrOutputParser()\n",
                ")"
            ]
        },
        {
            "cell_type": "markdown",
            "id": "314cba1d-c2c1-430d-a1e7-e16b6ecb8240",
            "metadata": {},
            "source": [
                "## Step 4: Evaluate\n",
                "\n",
                "Now that we have defined our evaluator and chat bot, it's time to run the evaluation.\n",
                "We will pass a constructor in to the `run_on_dataset` function to create a new instance\n",
                "of our bot for each dataset example. This also includes some mapping logic to prepare\n",
                "the data for the bot itself."
            ]
        },
        {
            "cell_type": "code",
            "execution_count": 7,
            "id": "55cd3542-6df7-44f4-aa83-83359b167b40",
            "metadata": {},
            "outputs": [
                {
                    "name": "stdout",
                    "output_type": "stream",
                    "text": [
                        "View the evaluation results for project 'test-slight-error-59' at:\n",
                        "https://smith.langchain.com/o/ebbaf2eb-769b-4505-aca2-d11de10372a4/projects/p/cd82cfa6-9ee6-4851-894a-788374cc1656?eval=true\n",
                        "[------------------------------------------------->] 5/5"
                    ]
                }
            ],
            "source": [
                "from langchain.adapters.openai import convert_openai_messages\n",
                "from langchain.smith import RunEvalConfig\n",
                "\n",
                "\n",
                "def construct_chain():\n",
                "    # Add a step to convert the data from the dataset to a form the chain can consume\n",
                "    return {\n",
                "        \"input\": lambda x: x[\"question\"],\n",
                "        \"chat_history\": lambda x: convert_openai_messages(x[\"chat_history\"]),\n",
                "    } | chain\n",
                "\n",
                "\n",
                "results = client.run_on_dataset(\n",
                "    dataset_name=dataset_name,\n",
                "    llm_or_chain_factory=construct_chain,\n",
                "    evaluation=RunEvalConfig(\n",
                "        custom_evaluators=[ConversationalHelpfulnessEvaluator()],\n",
                "    ),\n",
                ")"
            ]
        },
        {
            "cell_type": "markdown",
            "id": "87be599b-6165-4684-8c71-42c3ed270d29",
            "metadata": {},
            "source": [
                "## Conclusion\n",
                "\n",
                "We've covered the steps to create a conversational dataset, set up a custom evaluator,  and apply that evaluator to your chat bot to measure its ability to handle conversation history.\n",
                "\n",
                "Effective evaluation focuses on ensuring the bot maintains consistent and accurate interactions across turns. With the methods outlined here, you're set up to measure and improve this aspect of your chat bot's performance."
            ]
        },
        {
            "cell_type": "code",
            "execution_count": null,
            "id": "a7e83170-5813-41ff-83b4-e73aa95397da",
            "metadata": {},
            "outputs": [],
            "source": []
        }
    ],
    "metadata": {
        "kernelspec": {
            "display_name": "Python 3 (ipykernel)",
            "language": "python",
            "name": "python3"
        },
        "language_info": {
            "codemirror_mode": {
                "name": "ipython",
                "version": 3
            },
            "file_extension": ".py",
            "mimetype": "text/x-python",
            "name": "python",
            "nbconvert_exporter": "python",
            "pygments_lexer": "ipython3",
            "version": "3.11.2"
        }
    },
    "nbformat": 4,
    "nbformat_minor": 5
}