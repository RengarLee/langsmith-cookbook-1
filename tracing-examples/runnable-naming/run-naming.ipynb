{
 "cells": [
  {
   "cell_type": "markdown",
   "id": "0259c56c-701d-4917-a4ba-a351f48da8f4",
   "metadata": {},
   "source": [
    "# Customizing Run Names\n",
    "[![Open In Collab](https://colab.research.google.com/assets/colab-badge.svg)](https://colab.research.google.com/github/langchain-ai/langsmith-cookbook/blob/master/./tracing-examples/runnable-naming/run-naming.ipynb)\n",
    "\n",
    "Every LangSmith run receives a name. This name is visible in the UI and can be employed later for querying a particular run. In the context of tracing chains constructed with LangChain, the default run name is derived from the class name of the invoked object.\n",
    "\n",
    "For runs categorized as \"Chain\", the name can be configured by calling the [runnable](https://python.langchain.com/docs/expression_language/) object's `with_config({\"run_name\": \"My Run Name\"})` method. This guide illustrates its application through several examples.\n",
    "\n",
    "**Note:** Only chains and general runnables support custom naming; LLMs, chat models, prompts, and retrievers do not.\n",
    "\n",
    "Begin by installing the latest version of LangChain.\n"
   ]
  },
  {
   "cell_type": "code",
   "execution_count": null,
   "id": "2c2450c9-851a-4c02-add8-a0ec26ee20ec",
   "metadata": {
    "tags": []
   },
   "outputs": [],
   "source": [
    "# %pip install -U langchain --quiet"
   ]
  },
  {
   "cell_type": "code",
   "execution_count": 15,
   "id": "550f888774360550",
   "metadata": {
    "collapsed": false
   },
   "outputs": [],
   "source": [
    "import os\n",
    "\n",
    "os.environ[\"LANGCHAIN_ENDPOINT\"] = \"https://api.smith.langchain.com\" # Update with your API URL if using a hosted instance of Langsmith.\n",
    "os.environ[\"LANGCHAIN_API_KEY\"] = \"YOUR API KEY\" # Update with your API key\n",
    "os.environ[\"LANGCHAIN_TRACING_V2\"] = \"true\"\n",
    "project_name = \"YOUR PROJECT NAME\" # Update with your project name\n",
    "os.environ[\"LANGCHAIN_PROJECT\"] = project_name # Optional: \"default\" is used if not set"
   ]
  },
  {
   "cell_type": "code",
   "execution_count": 16,
   "id": "2d6f21f4-dcb1-41c8-9bd9-16ae2cb6a7d2",
   "metadata": {},
   "outputs": [],
   "source": [
    "from langsmith import Client\n",
    "\n",
    "client = Client()"
   ]
  },
  {
   "cell_type": "markdown",
   "id": "fb4b91ae-4d7c-4119-8eca-aec3aa9e9cd5",
   "metadata": {},
   "source": [
    "## Example 1: Simple Chain"
   ]
  },
  {
   "cell_type": "code",
   "execution_count": 17,
   "id": "07cf5602-ddd0-4d88-9b63-dee3be2f3356",
   "metadata": {
    "tags": []
   },
   "outputs": [
    {
     "name": "stdout",
     "output_type": "stream",
     "text": [
      "🌕🌔🌓🌒🌑"
     ]
    }
   ],
   "source": [
    "from langchain import chat_models, prompts, callbacks, schema\n",
    "\n",
    "chain = (\n",
    "    prompts.ChatPromptTemplate.from_template(\"Reverse the following string: {text}\")\n",
    "    | chat_models.ChatOpenAI()\n",
    ").with_config({\"run_name\": \"StringReverse\"})\n",
    "\n",
    "\n",
    "with callbacks.collect_runs() as cb:\n",
    "    for chunk in chain.stream({\"text\": \"🌑🌒🌓🌔🌕\"}):\n",
    "        print(chunk.content, flush=True, end=\"\")\n",
    "    run_id = cb.traced_runs[0].id"
   ]
  },
  {
   "cell_type": "markdown",
   "id": "8dc0417a-1091-4602-a090-82dfa082ba67",
   "metadata": {},
   "source": [
    "This will result in a trace that looks something like the following:\n",
    "\n",
    "[![StringReverse](https://smith.langchain.com/public/6fffe5a8-2561-4a73-bb7a-e40bc966ba33/r/img/moon_reverse.png)](https://smith.langchain.com/public/6fffe5a8-2561-4a73-bb7a-e40bc966ba33/r)\n",
    "\n",
    "If you inspect the run object, you can see the run name is now \"StringReverse\". You can query within a project for runs with this name to see all the times this chain was used. Do so using the filter syntax `eq(name, \"MyRunName\")`."
   ]
  },
  {
   "cell_type": "code",
   "execution_count": 18,
   "id": "8ead4436-4af9-4c45-a09a-f46ba84ff222",
   "metadata": {
    "tags": []
   },
   "outputs": [
    {
     "name": "stdout",
     "output_type": "stream",
     "text": [
      "Saved name: StringReverse\n"
     ]
    }
   ],
   "source": [
    "callbacks.tracers.langchain.wait_for_all_tracers()\n",
    "print(f\"Saved name: {client.read_run(run_id=run_id).name}\")"
   ]
  },
  {
   "cell_type": "code",
   "execution_count": 19,
   "id": "2b88adb8-8b25-418c-a9d0-9bfaed1c4888",
   "metadata": {
    "tags": []
   },
   "outputs": [
    {
     "data": {
      "text/plain": [
       "Run(id=UUID('fd788e01-7f38-4689-99bb-ef4fd9e7bcca'), name='StringReverse', start_time=datetime.datetime(2023, 9, 20, 20, 10, 18, 802548), run_type='chain', end_time=datetime.datetime(2023, 9, 20, 20, 10, 19, 699518), extra={'runtime': {'cpu': {'time': {'sys': 3.072205568, 'user': 2.226516736}, 'percent': 0.0, 'ctx_switches': {'voluntary': 16532.0, 'involuntary': 0.0}}, 'mem': {'rss': 59375616.0}, 'library': 'langchain', 'runtime': 'python', 'platform': 'macOS-13.5-arm64-arm-64bit', 'sdk_version': '0.0.38', 'thread_count': 34.0, 'library_version': '0.0.295', 'runtime_version': '3.11.5', 'langchain_version': '0.0.295', 'py_implementation': 'CPython'}}, error=None, serialized=None, events=[{'name': 'start', 'time': '2023-09-20T20:10:18.802548'}, {'name': 'end', 'time': '2023-09-20T20:10:19.699518'}], inputs={'text': '🌑🌒🌓🌔🌕'}, outputs={'output': {'content': '🌕🌔🌓🌒🌑', 'example': False, 'additional_kwargs': {}}}, reference_example_id=None, parent_run_id=None, tags=[], execution_order=1, session_id=UUID('41597437-b152-43e0-b05a-1cbd454d2519'), child_run_ids=[UUID('d2ffd0eb-4990-4e3f-b08e-d642b3ee8844'), UUID('a4c8da45-1722-410e-9a23-6623fa6e3635')], child_runs=None, feedback_stats=None, app_path='/o/9a6371ef-ea6a-4860-b3bd-9614084873e7/projects/p/41597437-b152-43e0-b05a-1cbd454d2519/r/fd788e01-7f38-4689-99bb-ef4fd9e7bcca', manifest_id=UUID('27e257cd-cfe8-4b9c-9f52-9b9401893b59'), status='success', prompt_tokens=27, completion_tokens=15, total_tokens=42, first_token_time=datetime.datetime(2023, 9, 20, 20, 10, 19, 301412, tzinfo=datetime.timezone.utc), parent_run_ids=None)"
      ]
     },
     "execution_count": 19,
     "metadata": {},
     "output_type": "execute_result"
    }
   ],
   "source": [
    "# List with the name filter to get runs with the assigned name\n",
    "next(client.list_runs(project_name=project_name, filter='eq(name, \"StringReverse\")'))"
   ]
  },
  {
   "cell_type": "markdown",
   "id": "bc8890cc-cd47-47db-b86e-9eadb799bcfa",
   "metadata": {},
   "source": [
    "## Example 2: Runnable Lambda\n",
    "\n",
    "LangChain's [RunnableLambdas](https://api.python.langchain.com/en/latest/schema/langchain.schema.runnable.base.RunnableLambda.html#langchain.schema.runnable.base.RunnableLambda) are custom functions that can be invoked, batched, streamed, and/or transformed.\n",
    "\n",
    "By default (in langchain versions >= 0.0.283), the name of the lambda is the function name. You can customize this by calling `with_config({\"run_name\": \"My Run Name\"})` on the runnable lambda object."
   ]
  },
  {
   "cell_type": "code",
   "execution_count": 20,
   "id": "7aae162d-a4e7-4ae2-90a5-faeab96eaf9d",
   "metadata": {
    "tags": []
   },
   "outputs": [],
   "source": [
    "def reverse_and_concat(txt: str) -> str:\n",
    "    return txt[::-1] + txt\n",
    "\n",
    "lambda_chain = chain | schema.output_parser.StrOutputParser() | reverse_and_concat"
   ]
  },
  {
   "cell_type": "code",
   "execution_count": 21,
   "id": "38156393-2a0c-4efc-a357-61ebddb597d9",
   "metadata": {
    "tags": []
   },
   "outputs": [
    {
     "name": "stdout",
     "output_type": "stream",
     "text": [
      "🌑🌒🌓🌔🌕🌕🌔🌓🌒🌑\n"
     ]
    }
   ],
   "source": [
    "with callbacks.collect_runs() as cb:\n",
    "    print(lambda_chain.invoke({\"text\": \"🌑🌒🌓🌔🌕\"}))\n",
    "    # We will fetch just the lambda run (which is the last child run in this root trace)\n",
    "    run_id = cb.traced_runs[0].child_runs[-1].id"
   ]
  },
  {
   "cell_type": "code",
   "execution_count": 22,
   "id": "ffbbd788-eac5-4e1b-a7f2-a4414bc27917",
   "metadata": {
    "tags": []
   },
   "outputs": [
    {
     "name": "stdout",
     "output_type": "stream",
     "text": [
      "Saved name: reverse_and_concat\n"
     ]
    }
   ],
   "source": [
    "# If you are using LangChain < 0.0.283, this will be \"RunnableLambda\"\n",
    "callbacks.tracers.langchain.wait_for_all_tracers()\n",
    "print(f\"Saved name: {client.read_run(run_id=run_id).name}\")"
   ]
  },
  {
   "cell_type": "markdown",
   "id": "0d303a21-8065-4279-9441-2f8fee20ec52",
   "metadata": {},
   "source": [
    "The lambda function's trace will be given the lambda function's name, `reverse_and_concat`, as shown below:\n",
    "\n",
    "<a href=\"https://smith.langchain.com/public/86ff7b17-4a84-4f99-8a98-13c49658af89/r/54ea562c-d30a-4d71-8c98-5c174819c9dd\" target=\"_blank\"><img src=\"img/reverse_and_concat.png\" alt=\"reverse_and_concat\" width=\"75%\"></a>"
   ]
  },
  {
   "cell_type": "markdown",
   "id": "91d16a2b-2a25-41b2-ba84-6511de11a362",
   "metadata": {},
   "source": [
    "#### Customize Lambda Name\n",
    "\n",
    "In the `lambda_chain` above, our function was automatically promoted to a \"RunnableLambda\" via the piping syntax.\n",
    "We can customize the run name using the `with_config` syntax once the object is created."
   ]
  },
  {
   "cell_type": "code",
   "execution_count": 23,
   "id": "02123647-67cb-40d8-9c0c-10ab2e789d25",
   "metadata": {
    "tags": []
   },
   "outputs": [],
   "source": [
    "from langchain.schema import runnable\n",
    "\n",
    "configured_lambda_chain = chain | schema.output_parser.StrOutputParser() | runnable.RunnableLambda(reverse_and_concat).with_config({\"run_name\": \"LambdaReverse\"})"
   ]
  },
  {
   "cell_type": "code",
   "execution_count": 24,
   "id": "3ae4a3f0-6019-4a73-bf9d-3c3becc52564",
   "metadata": {
    "tags": []
   },
   "outputs": [
    {
     "name": "stdout",
     "output_type": "stream",
     "text": [
      "🌑🌒🌓🌔🌕🌕🌔🌓🌒🌑\n"
     ]
    }
   ],
   "source": [
    "with callbacks.collect_runs() as cb:\n",
    "    print(configured_lambda_chain.invoke({\"text\": \"🌑🌒🌓🌔🌕\"}))\n",
    "    run_id = cb.traced_runs[0].child_runs[-1].id"
   ]
  },
  {
   "cell_type": "code",
   "execution_count": 25,
   "id": "2e44d744-6cb6-4e0d-bdb6-502887df494f",
   "metadata": {
    "tags": []
   },
   "outputs": [
    {
     "name": "stdout",
     "output_type": "stream",
     "text": [
      "Saved name: LambdaReverse\n"
     ]
    }
   ],
   "source": [
    "callbacks.tracers.langchain.wait_for_all_tracers()\n",
    "print(f\"Saved name: {client.read_run(run_id=run_id).name}\")"
   ]
  },
  {
   "cell_type": "markdown",
   "id": "82a23bcb-e675-4d82-b79b-8ea2bdf0f02a",
   "metadata": {},
   "source": [
    "[![LambdaReverse](img/custom_lambda.png)](https://smith.langchain.com/public/43eea194-b0f0-452b-b92c-4ae39ffd0799/r)\n",
    "\n",
    "The lambda function's name now will be `LambdaReverse`, as shown below:\n"
   ]
  },
  {
   "cell_type": "markdown",
   "id": "9af59fad-63c1-435c-97b0-6bf73cda5ff9",
   "metadata": {},
   "source": [
    "## Example 3: Agents\n",
    "\n",
    "Since LangChain agents and agent executors are types of chains."
   ]
  },
  {
   "cell_type": "code",
   "execution_count": 26,
   "id": "81c8bfc9-1144-45b4-8ed5-3eb67c634c60",
   "metadata": {
    "tags": []
   },
   "outputs": [],
   "source": [
    "from langchain import agents, tools\n",
    "\n",
    "\n",
    "agent_executor = agents.initialize_agent(\n",
    "    llm=chat_models.ChatOpenAI(),\n",
    "    tools=[tools.ReadFileTool(), tools.WriteFileTool(), tools.ListDirectoryTool()],\n",
    "    agent=agents.AgentType.OPENAI_FUNCTIONS,\n",
    ")"
   ]
  },
  {
   "cell_type": "code",
   "execution_count": 27,
   "id": "325a08ce-9255-497e-9bb9-aa7cafba9bc3",
   "metadata": {
    "tags": []
   },
   "outputs": [
    {
     "name": "stdout",
     "output_type": "stream",
     "text": [
      "The files in the current directory are:\n",
      "1. run-naming.ipynb\n",
      "2. img\n",
      "3. .ipynb_checkpoints\n"
     ]
    }
   ],
   "source": [
    "with callbacks.collect_runs() as cb:\n",
    "    result = agent_executor.with_config({\"run_name\": \"File Agent\"}).invoke(\"What files are in the current directory?\")\n",
    "    run_id = cb.traced_runs[0].id\n",
    "    print(result['output'])"
   ]
  },
  {
   "cell_type": "code",
   "execution_count": 28,
   "id": "26fc9778-886d-4405-8be4-c6d6ea9e9564",
   "metadata": {
    "tags": []
   },
   "outputs": [
    {
     "name": "stdout",
     "output_type": "stream",
     "text": [
      "Saved name: File Agent\n"
     ]
    }
   ],
   "source": [
    "callbacks.tracers.langchain.wait_for_all_tracers()\n",
    "print(f\"Saved name: {client.read_run(run_id=run_id).name}\")"
   ]
  },
  {
   "cell_type": "markdown",
   "id": "0be7b42f-071f-45f3-a5ce-448819823240",
   "metadata": {},
   "source": [
    "The resulting agent trace will reflect the custom name you've assigned to it.\n",
    "\n",
    "<a href=\"https://smith.langchain.com/public/00537050-0da5-4f95-ba28-857183ae9b0c/r\" target=\"_blank\"><img src=\"img/file_agent.png\" alt=\"File Agent Trace\" width=\"75%\"></a>"
   ]
  },
  {
   "cell_type": "markdown",
   "id": "d99951f8-c578-4dec-9f62-cbf7da4c711d",
   "metadata": {},
   "source": [
    "## Conclusion\n",
    "\n",
    "An easy way to customize run names is to use the `with_config` syntax on your LangChain chain or runnable lambda. This makes it easier to understand a trace at a glance."
   ]
  },
  {
   "cell_type": "code",
   "execution_count": null,
   "id": "952da1ef-13b8-4c0d-8a2b-d2a73aab3992",
   "metadata": {},
   "outputs": [],
   "source": []
  }
 ],
 "metadata": {
  "kernelspec": {
   "display_name": "Python 3 (ipykernel)",
   "language": "python",
   "name": "python3"
  },
  "language_info": {
   "codemirror_mode": {
    "name": "ipython",
    "version": 3
   },
   "file_extension": ".py",
   "mimetype": "text/x-python",
   "name": "python",
   "nbconvert_exporter": "python",
   "pygments_lexer": "ipython3",
   "version": "3.11.5"
  }
 },
 "nbformat": 4,
 "nbformat_minor": 5
}
